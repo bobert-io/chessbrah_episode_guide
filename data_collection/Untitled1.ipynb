{
 "cells": [
  {
   "cell_type": "code",
   "execution_count": 1,
   "id": "e4c1ed7d-cff3-43fc-aa78-a81e396932ae",
   "metadata": {},
   "outputs": [
    {
     "name": "stdout",
     "output_type": "stream",
     "text": [
      "gm_username='PoojaFan69'\n",
      "gm_username='fianchettonly'\n",
      "gm_username='systemplayer'\n",
      "gm_username='sterkurstrakur'\n",
      "gm_username='ebenetzebeth'\n",
      "gm_username='Hippopotamus'\n",
      "gm_username='wonestall'\n",
      "gm_username='redwinereduction'\n",
      "gm_username='slowbrah'\n",
      "gm_username='iattackuresign'\n",
      "gm_username='speedonly'\n",
      "gm_username='vonamiat'\n",
      "gm_username='tungjatjeta'\n",
      "gm_username='systematic'\n",
      "gm_username='VBKN'\n"
     ]
    },
    {
     "name": "stderr",
     "output_type": "stream",
     "text": [
      "reading ocr txt files: 100%|████████████████████████████████████████████████████████████████████████████████████████████████████████████████████████████████████████████████████████████████████████████████| 297/297 [00:37<00:00,  7.93it/s]\n"
     ]
    }
   ],
   "source": [
    "import chess_prj\n",
    "import pandas as pd\n",
    "\n",
    "dfs = chess_prj.make_dfs(\"/data/chess_prj/games/\",\"/data/chess_prj/ocr/\",CDIST_THRESHOLD=80, last4_agree=True)\n",
    "dfs.keys()\n",
    "locals().update(dfs)"
   ]
  },
  {
   "cell_type": "code",
   "execution_count": 6,
   "id": "29b64028-a4e1-43e6-bf75-7ca85e2473c3",
   "metadata": {},
   "outputs": [
    {
     "data": {
      "text/plain": [
       "array(['Habits (2021)', 'Fianchetto', \"King's Indian\", 'Hippo',\n",
       "       'French Defense', 'English', 'Bullet Habits', 'Stonewall',\n",
       "       'Caro-Kann', 'Slowbrah', 'Taimanov', '1..d6',\n",
       "       'Building Repertoires', '1.e4', 'Aman’s Attacking Speedrun!',\n",
       "       'Let Aman Cook', 'Philador'], dtype=object)"
      ]
     },
     "execution_count": 6,
     "metadata": {},
     "output_type": "execute_result"
    }
   ],
   "source": [
    "final_df.series_name.unique()"
   ]
  },
  {
   "cell_type": "code",
   "execution_count": 38,
   "id": "fdb48bea-3d2b-4f94-b7f2-5d9561530854",
   "metadata": {},
   "outputs": [
    {
     "data": {
      "text/plain": [
       "53755"
      ]
     },
     "execution_count": 38,
     "metadata": {},
     "output_type": "execute_result"
    }
   ],
   "source": [
    "open(\"stupid.txt\",\"wt\").write(\"\\n\".join(sorted(player_ocr_match_df.player_str.unique().tolist())))"
   ]
  },
  {
   "cell_type": "code",
   "execution_count": 8,
   "id": "28fafa9d-5592-4554-b6cf-90451ee9b62a",
   "metadata": {},
   "outputs": [
    {
     "data": {
      "text/plain": [
       "array(['PL8N8j2e7RpPkifGM5W4l5lPnD2C5U10_r',\n",
       "       'PL8N8j2e7RpPnpqbISqi1SJ9_wrnNU3rEm',\n",
       "       'PLUjxDD7HNNTgFhixLDC8ZbTyLaqZZ-oyu',\n",
       "       'PLUjxDD7HNNTgUMR77Bdd3NGtvFXApHZkS',\n",
       "       'PLUjxDD7HNNTgWqHZpTn_6s7_47bRMOo2c',\n",
       "       'PLUjxDD7HNNTgX_ufiNv85dHl5cNYOlyxK',\n",
       "       'PLUjxDD7HNNTgqsQMSU_fHk0DuRZfjrnZK',\n",
       "       'PLUjxDD7HNNTgtpLudM3yUyEo4jXLSXOZt',\n",
       "       'PLUjxDD7HNNTh8a6IyYOhLg9GuFXoCidf8',\n",
       "       'PLUjxDD7HNNThhJfKut7JhDp8QNXgULn5M',\n",
       "       'PLUjxDD7HNNThrUKoSNDnRJPT5JNUfIlgT',\n",
       "       'PLUjxDD7HNNThyShNsNms2-ydwimYbl66n',\n",
       "       'PLUjxDD7HNNTiQ-rsy-kKE9uHRBqtNlCUa',\n",
       "       'PLUjxDD7HNNTinraGDsjTkIh_NMnaIOr4K',\n",
       "       'PLUjxDD7HNNTjPPDAZGCcpmpSmw6QFLxJU',\n",
       "       'PLUjxDD7HNNTjVEZ_1I8E28uav9t_ltDKX',\n",
       "       'PLUjxDD7HNNTjZAD99gBAKVm_ZipXTtNYn'], dtype=object)"
      ]
     },
     "execution_count": 8,
     "metadata": {},
     "output_type": "execute_result"
    }
   ],
   "source": [
    "games_and_ocr_df.yt_playlist_id.unique()"
   ]
  },
  {
   "cell_type": "code",
   "execution_count": 13,
   "id": "9379f101-f6f0-4a42-a244-233be68ab85f",
   "metadata": {},
   "outputs": [
    {
     "data": {
      "text/plain": [
       "Index(['time', 'fname', 'bbox_player', 'ocr_str_player', 'score_player',\n",
       "       'bbox_opponent', 'ocr_str_opponent', 'score_opponent', 'player_str',\n",
       "       'player_ocr_score', 'opponent_str', 'opponent_ocr_score', 'gm_username',\n",
       "       'game_url', 'time_class', 'start_datetime_posix', 'end_datetime_posix',\n",
       "       'year', 'month', 'player_color', 'opponent_end_elo', 'opponent',\n",
       "       'player_end_elo', 'pgn', 'game_id', 'player_start_elo',\n",
       "       'player_elo_gain', 'estimated_opponent_start_elo', 'yt_video_id',\n",
       "       'yt_playlist_id', 'yt_link'],\n",
       "      dtype='object')"
      ]
     },
     "execution_count": 13,
     "metadata": {},
     "output_type": "execute_result"
    }
   ],
   "source": [
    "games_and_ocr_df.columns"
   ]
  },
  {
   "cell_type": "code",
   "execution_count": 21,
   "id": "e68be28c-187a-4f2d-a602-7e224be6e7b2",
   "metadata": {},
   "outputs": [
    {
     "data": {
      "text/plain": [
       "['/data/chess_prj/ocr/PLUjxDD7HNNTiljFCufDXDSjEQH1cIdbSx_____rfbOu4mA-hQ_____Grandmaster Teaches The London System ｜ Part 9.done',\n",
       " '/data/chess_prj/ocr/PL8N8j2e7RpPnCgAMT4ZMZc4BEw7RCDjoA_____OOWKZJtTTNA_____Black Pieces Speedrun ｜ 2300-2400.done',\n",
       " '/data/chess_prj/ocr/PL8N8j2e7RpPnCgAMT4ZMZc4BEw7RCDjoA_____2NLQIOcuxbk_____Black Pieces Speedrun ｜ 2000-2100.done',\n",
       " '/data/chess_prj/ocr/PLUjxDD7HNNTiljFCufDXDSjEQH1cIdbSx_____OidsHHg6Nm0_____Grandmaster Teaches The London System ｜ Part 3.done',\n",
       " '/data/chess_prj/ocr/PLUjxDD7HNNTiljFCufDXDSjEQH1cIdbSx_____MHqTZWomK6A_____Grandmaster Teaches The London System ｜ Part 15.done',\n",
       " '/data/chess_prj/ocr/PL8N8j2e7RpPnCgAMT4ZMZc4BEw7RCDjoA_____RG2QemD1FIo_____Black Pieces Speedrun ｜ 1800-1900.done',\n",
       " '/data/chess_prj/ocr/PLUjxDD7HNNTiljFCufDXDSjEQH1cIdbSx_____EOfNcvkpQp8_____Grandmaster Teaches The London System ｜ Part 12.done',\n",
       " '/data/chess_prj/ocr/PLUjxDD7HNNTiljFCufDXDSjEQH1cIdbSx_____qm5t3xAdJMk_____Grandmaster Teaches The London System ｜ Part 17.done',\n",
       " '/data/chess_prj/ocr/PLUjxDD7HNNTiljFCufDXDSjEQH1cIdbSx_____pkOkSGuQvh8_____Grandmaster Teaches The London System ｜ Part 2.done',\n",
       " '/data/chess_prj/ocr/PL8N8j2e7RpPnCgAMT4ZMZc4BEw7RCDjoA_____9lnousuTN4M_____Black Pieces Speedrun ｜ 1400-1500.done',\n",
       " '/data/chess_prj/ocr/PL8N8j2e7RpPnCgAMT4ZMZc4BEw7RCDjoA_____bIYqEQRz0cs_____Black Pieces Speedrun ｜ 1900-2000.done',\n",
       " '/data/chess_prj/ocr/PL8N8j2e7RpPnCgAMT4ZMZc4BEw7RCDjoA_____feeeMxT9PA4_____Black Pieces Speedrun ｜ 1100-1200.done',\n",
       " '/data/chess_prj/ocr/PLUjxDD7HNNTiljFCufDXDSjEQH1cIdbSx_____0hlDcA0Zc9M_____Grandmaster Teaches The London System ｜ Part 5.done',\n",
       " '/data/chess_prj/ocr/PL8N8j2e7RpPnCgAMT4ZMZc4BEw7RCDjoA_____0SwVWXA-PEY_____Black Pieces Speedrun ｜ 1000-1100.done',\n",
       " '/data/chess_prj/ocr/PL8N8j2e7RpPnCgAMT4ZMZc4BEw7RCDjoA_____gEb4DXPxAfM_____Black Pieces Speedrun ｜ FINALE.done',\n",
       " '/data/chess_prj/ocr/PL8N8j2e7RpPnCgAMT4ZMZc4BEw7RCDjoA_____O-PdBnj1Xhg_____Black Pieces Speedrun ｜ 1200-1300.done',\n",
       " '/data/chess_prj/ocr/PLUjxDD7HNNTiljFCufDXDSjEQH1cIdbSx_____3bULUDwHYtc_____Grandmaster Teaches The London System ｜ Part 1.done',\n",
       " '/data/chess_prj/ocr/PL8N8j2e7RpPnCgAMT4ZMZc4BEw7RCDjoA_____AiK_YbMLXAQ_____Black Pieces Speedrun ｜ 1600-1700.done',\n",
       " '/data/chess_prj/ocr/PLUjxDD7HNNTiljFCufDXDSjEQH1cIdbSx_____NtcXbhKBWwI_____Grandmaster Teaches The London System ｜ Part 10.done',\n",
       " '/data/chess_prj/ocr/PL8N8j2e7RpPnCgAMT4ZMZc4BEw7RCDjoA_____yW0_JE3vnmU_____Black Pieces Speedrun ｜ 2200-2300.done',\n",
       " '/data/chess_prj/ocr/PL8N8j2e7RpPnCgAMT4ZMZc4BEw7RCDjoA_____SZeowg5vFMY_____Black Pieces Speedrun ｜ 1300-1400.done',\n",
       " '/data/chess_prj/ocr/PL8N8j2e7RpPnCgAMT4ZMZc4BEw7RCDjoA_____lbVcewS2OOg_____Black Pieces Speedrun ｜ 1500-1600.done',\n",
       " '/data/chess_prj/ocr/PLUjxDD7HNNTiljFCufDXDSjEQH1cIdbSx_____5iqm-aq7sEA_____Grandmaster Teaches The London System ｜ Part 8.done',\n",
       " '/data/chess_prj/ocr/PLUjxDD7HNNTiljFCufDXDSjEQH1cIdbSx_____klPQ8hPGCnU_____Grandmaster Teaches The London System ｜ Part 16.done',\n",
       " '/data/chess_prj/ocr/PLUjxDD7HNNTiljFCufDXDSjEQH1cIdbSx_____Zkcyyj9xTT8_____Grandmaster Teaches The London System ｜ FINALE.done',\n",
       " '/data/chess_prj/ocr/PLUjxDD7HNNTiljFCufDXDSjEQH1cIdbSx_____izNk3Dd4zZA_____Grandmaster Teaches The London System ｜ Part 13.done',\n",
       " '/data/chess_prj/ocr/PLUjxDD7HNNTiljFCufDXDSjEQH1cIdbSx_____PqFwbmSvm38_____Grandmaster Teaches The London System ｜ Part 6.done',\n",
       " '/data/chess_prj/ocr/PLUjxDD7HNNTiljFCufDXDSjEQH1cIdbSx_____3PohHinhSHY_____Grandmaster Teaches The London System ｜ Part 14.done',\n",
       " '/data/chess_prj/ocr/PL8N8j2e7RpPnCgAMT4ZMZc4BEw7RCDjoA_____m2wSdlQ9S-M_____Black Pieces Speedrun ｜ 900-1000.done',\n",
       " '/data/chess_prj/ocr/PLUjxDD7HNNTiljFCufDXDSjEQH1cIdbSx_____-guvn4tkgmU_____Grandmaster Teaches The London System ｜ Part 7.done',\n",
       " '/data/chess_prj/ocr/PLUjxDD7HNNTiljFCufDXDSjEQH1cIdbSx_____vyxK0vqxowo_____Grandmaster Teaches The London System ｜ Part 11.done',\n",
       " '/data/chess_prj/ocr/PLUjxDD7HNNTiljFCufDXDSjEQH1cIdbSx_____rwsumP3aq_I_____Grandmaster Teaches The London System ｜ Part 4.done',\n",
       " '/data/chess_prj/ocr/PL8N8j2e7RpPnCgAMT4ZMZc4BEw7RCDjoA_____qb4rtz_AYiA_____Black Pieces Speedrun ｜ 800-900.done',\n",
       " '/data/chess_prj/ocr/PL8N8j2e7RpPnCgAMT4ZMZc4BEw7RCDjoA_____5Pj4hoYteLw_____Black Pieces Speedrun ｜ 1700-1800.done']"
      ]
     },
     "execution_count": 21,
     "metadata": {},
     "output_type": "execute_result"
    }
   ],
   "source": [
    "ocr_df[ocr_df.ocr_str.str.startswith(\"systemplayer\")].fname.unique().tolist()"
   ]
  },
  {
   "cell_type": "code",
   "execution_count": 16,
   "id": "186a04f9-c014-45aa-95ec-39da83de3b70",
   "metadata": {},
   "outputs": [
    {
     "data": {
      "text/html": [
       "<div>\n",
       "<style scoped>\n",
       "    .dataframe tbody tr th:only-of-type {\n",
       "        vertical-align: middle;\n",
       "    }\n",
       "\n",
       "    .dataframe tbody tr th {\n",
       "        vertical-align: top;\n",
       "    }\n",
       "\n",
       "    .dataframe thead th {\n",
       "        text-align: right;\n",
       "    }\n",
       "</style>\n",
       "<table border=\"1\" class=\"dataframe\">\n",
       "  <thead>\n",
       "    <tr style=\"text-align: right;\">\n",
       "      <th></th>\n",
       "      <th>time</th>\n",
       "      <th>fname</th>\n",
       "      <th>bbox_player</th>\n",
       "      <th>ocr_str_player</th>\n",
       "      <th>score_player</th>\n",
       "      <th>bbox_opponent</th>\n",
       "      <th>ocr_str_opponent</th>\n",
       "      <th>score_opponent</th>\n",
       "      <th>player_str</th>\n",
       "      <th>player_ocr_score</th>\n",
       "      <th>...</th>\n",
       "      <th>opponent</th>\n",
       "      <th>player_end_elo</th>\n",
       "      <th>pgn</th>\n",
       "      <th>game_id</th>\n",
       "      <th>player_start_elo</th>\n",
       "      <th>player_elo_gain</th>\n",
       "      <th>estimated_opponent_start_elo</th>\n",
       "      <th>yt_video_id</th>\n",
       "      <th>yt_playlist_id</th>\n",
       "      <th>yt_link</th>\n",
       "    </tr>\n",
       "  </thead>\n",
       "  <tbody>\n",
       "  </tbody>\n",
       "</table>\n",
       "<p>0 rows × 31 columns</p>\n",
       "</div>"
      ],
      "text/plain": [
       "Empty DataFrame\n",
       "Columns: [time, fname, bbox_player, ocr_str_player, score_player, bbox_opponent, ocr_str_opponent, score_opponent, player_str, player_ocr_score, opponent_str, opponent_ocr_score, gm_username, game_url, time_class, start_datetime_posix, end_datetime_posix, year, month, player_color, opponent_end_elo, opponent, player_end_elo, pgn, game_id, player_start_elo, player_elo_gain, estimated_opponent_start_elo, yt_video_id, yt_playlist_id, yt_link]\n",
       "Index: []\n",
       "\n",
       "[0 rows x 31 columns]"
      ]
     },
     "execution_count": 16,
     "metadata": {},
     "output_type": "execute_result"
    }
   ],
   "source": [
    "games_and_ocr_df[games_and_ocr_df['gm_username'] == \"systemplayer\"]"
   ]
  },
  {
   "cell_type": "code",
   "execution_count": 31,
   "id": "908f27d5-9bbb-4b6d-be8d-c90870e076ca",
   "metadata": {},
   "outputs": [
    {
     "data": {
      "text/plain": [
       "np.int64(0)"
      ]
     },
     "execution_count": 31,
     "metadata": {},
     "output_type": "execute_result"
    }
   ],
   "source": [
    "player_ocr_match_df.player_str.str.startswith(\"systemplayer\").sum()"
   ]
  },
  {
   "cell_type": "code",
   "execution_count": 32,
   "id": "f4e8e2a1-0ebb-4914-a610-5955ef62c1cd",
   "metadata": {},
   "outputs": [
    {
     "data": {
      "text/plain": [
       "0         True\n",
       "1        False\n",
       "2        False\n",
       "3        False\n",
       "4        False\n",
       "         ...  \n",
       "21731    False\n",
       "21732    False\n",
       "21733    False\n",
       "21734    False\n",
       "21735    False\n",
       "Name: player_str, Length: 21736, dtype: bool"
      ]
     },
     "execution_count": 32,
     "metadata": {},
     "output_type": "execute_result"
    }
   ],
   "source": [
    "player_ocr_match_df.player_str.str.startswith(\"Hippo\")"
   ]
  },
  {
   "cell_type": "code",
   "execution_count": 2,
   "id": "64d70bd3-e35c-42d0-a5cb-cd1f30e21de3",
   "metadata": {},
   "outputs": [
    {
     "data": {
      "text/html": [
       "<div>\n",
       "<style scoped>\n",
       "    .dataframe tbody tr th:only-of-type {\n",
       "        vertical-align: middle;\n",
       "    }\n",
       "\n",
       "    .dataframe tbody tr th {\n",
       "        vertical-align: top;\n",
       "    }\n",
       "\n",
       "    .dataframe thead th {\n",
       "        text-align: right;\n",
       "    }\n",
       "</style>\n",
       "<table border=\"1\" class=\"dataframe\">\n",
       "  <thead>\n",
       "    <tr style=\"text-align: right;\">\n",
       "      <th></th>\n",
       "      <th>time</th>\n",
       "      <th>fname</th>\n",
       "      <th>bbox_player</th>\n",
       "      <th>ocr_str_player</th>\n",
       "      <th>score_player</th>\n",
       "      <th>bbox_opponent</th>\n",
       "      <th>ocr_str_opponent</th>\n",
       "      <th>score_opponent</th>\n",
       "      <th>player_str</th>\n",
       "      <th>player_ocr_score</th>\n",
       "      <th>...</th>\n",
       "      <th>pgn</th>\n",
       "      <th>game_id</th>\n",
       "      <th>player_start_elo</th>\n",
       "      <th>player_elo_gain</th>\n",
       "      <th>estimated_opponent_start_elo</th>\n",
       "      <th>yt_video_id</th>\n",
       "      <th>yt_playlist_id</th>\n",
       "      <th>yt_link</th>\n",
       "      <th>vs_str</th>\n",
       "      <th>series_name</th>\n",
       "    </tr>\n",
       "  </thead>\n",
       "  <tbody>\n",
       "    <tr>\n",
       "      <th>0</th>\n",
       "      <td>1055.0</td>\n",
       "      <td>/data/chess_prj/ocr/PL8N8j2e7RpPnpqbISqi1SJ9_w...</td>\n",
       "      <td>[[108.0, 1009.0], [198.0, 1009.0], [198.0, 102...</td>\n",
       "      <td>VBKN (401)</td>\n",
       "      <td>0.934520</td>\n",
       "      <td>[[112.0, 30.0], [298.0, 30.0], [298.0, 50.0], ...</td>\n",
       "      <td>antxman86(353</td>\n",
       "      <td>0.955083</td>\n",
       "      <td>VBKN (401)</td>\n",
       "      <td>100.000000</td>\n",
       "      <td>...</td>\n",
       "      <td>[Event \"Live Chess\"]\\n[Site \"Chess.com\"]\\n[Dat...</td>\n",
       "      <td>6368778613</td>\n",
       "      <td>401</td>\n",
       "      <td>-9</td>\n",
       "      <td>353</td>\n",
       "      <td>p8pZbhjL-fQ</td>\n",
       "      <td>PL8N8j2e7RpPnpqbISqi1SJ9_wrnNU3rEm</td>\n",
       "      <td>https://youtu.be/p8pZbhjL-fQ?t=1055</td>\n",
       "      <td>antxman86 (353) vs VBKN (401)</td>\n",
       "      <td>Habits (2021)</td>\n",
       "    </tr>\n",
       "    <tr>\n",
       "      <th>1</th>\n",
       "      <td>1840.0</td>\n",
       "      <td>/data/chess_prj/ocr/PL8N8j2e7RpPnpqbISqi1SJ9_w...</td>\n",
       "      <td>[[106.0, 1009.0], [204.0, 1009.0], [204.0, 102...</td>\n",
       "      <td>VBKN(392)</td>\n",
       "      <td>0.928447</td>\n",
       "      <td>[[112.0, 30.0], [304.0, 30.0], [304.0, 50.0], ...</td>\n",
       "      <td>Pablo525 474)</td>\n",
       "      <td>0.934448</td>\n",
       "      <td>VBKN (392)</td>\n",
       "      <td>94.736839</td>\n",
       "      <td>...</td>\n",
       "      <td>[Event \"Live Chess\"]\\n[Site \"Chess.com\"]\\n[Dat...</td>\n",
       "      <td>6368864385</td>\n",
       "      <td>392</td>\n",
       "      <td>10</td>\n",
       "      <td>474</td>\n",
       "      <td>p8pZbhjL-fQ</td>\n",
       "      <td>PL8N8j2e7RpPnpqbISqi1SJ9_wrnNU3rEm</td>\n",
       "      <td>https://youtu.be/p8pZbhjL-fQ?t=1840</td>\n",
       "      <td>VBKN (392) vs Pablo525 (474)</td>\n",
       "      <td>Habits (2021)</td>\n",
       "    </tr>\n",
       "  </tbody>\n",
       "</table>\n",
       "<p>2 rows × 33 columns</p>\n",
       "</div>"
      ],
      "text/plain": [
       "     time                                              fname  \\\n",
       "0  1055.0  /data/chess_prj/ocr/PL8N8j2e7RpPnpqbISqi1SJ9_w...   \n",
       "1  1840.0  /data/chess_prj/ocr/PL8N8j2e7RpPnpqbISqi1SJ9_w...   \n",
       "\n",
       "                                         bbox_player ocr_str_player  \\\n",
       "0  [[108.0, 1009.0], [198.0, 1009.0], [198.0, 102...     VBKN (401)   \n",
       "1  [[106.0, 1009.0], [204.0, 1009.0], [204.0, 102...      VBKN(392)   \n",
       "\n",
       "   score_player                                      bbox_opponent  \\\n",
       "0      0.934520  [[112.0, 30.0], [298.0, 30.0], [298.0, 50.0], ...   \n",
       "1      0.928447  [[112.0, 30.0], [304.0, 30.0], [304.0, 50.0], ...   \n",
       "\n",
       "  ocr_str_opponent  score_opponent  player_str  player_ocr_score  ...  \\\n",
       "0    antxman86(353        0.955083  VBKN (401)        100.000000  ...   \n",
       "1    Pablo525 474)        0.934448  VBKN (392)         94.736839  ...   \n",
       "\n",
       "                                                 pgn     game_id  \\\n",
       "0  [Event \"Live Chess\"]\\n[Site \"Chess.com\"]\\n[Dat...  6368778613   \n",
       "1  [Event \"Live Chess\"]\\n[Site \"Chess.com\"]\\n[Dat...  6368864385   \n",
       "\n",
       "  player_start_elo player_elo_gain estimated_opponent_start_elo  yt_video_id  \\\n",
       "0              401              -9                          353  p8pZbhjL-fQ   \n",
       "1              392              10                          474  p8pZbhjL-fQ   \n",
       "\n",
       "                       yt_playlist_id                              yt_link  \\\n",
       "0  PL8N8j2e7RpPnpqbISqi1SJ9_wrnNU3rEm  https://youtu.be/p8pZbhjL-fQ?t=1055   \n",
       "1  PL8N8j2e7RpPnpqbISqi1SJ9_wrnNU3rEm  https://youtu.be/p8pZbhjL-fQ?t=1840   \n",
       "\n",
       "                          vs_str    series_name  \n",
       "0  antxman86 (353) vs VBKN (401)  Habits (2021)  \n",
       "1   VBKN (392) vs Pablo525 (474)  Habits (2021)  \n",
       "\n",
       "[2 rows x 33 columns]"
      ]
     },
     "execution_count": 2,
     "metadata": {},
     "output_type": "execute_result"
    }
   ],
   "source": [
    "final_df.head(2)"
   ]
  },
  {
   "cell_type": "code",
   "execution_count": 3,
   "id": "dbe5caf0-cf54-4d8c-bdea-01d4ebd44290",
   "metadata": {},
   "outputs": [
    {
     "data": {
      "text/plain": [
       "Index(['time', 'fname', 'bbox_player', 'ocr_str_player', 'score_player',\n",
       "       'bbox_opponent', 'ocr_str_opponent', 'score_opponent', 'player_str',\n",
       "       'player_ocr_score', 'opponent_str', 'opponent_ocr_score', 'gm_username',\n",
       "       'game_url', 'time_class', 'start_datetime_posix', 'end_datetime_posix',\n",
       "       'year', 'month', 'player_color', 'opponent_end_elo', 'opponent',\n",
       "       'player_end_elo', 'pgn', 'game_id', 'player_start_elo',\n",
       "       'player_elo_gain', 'estimated_opponent_start_elo', 'yt_video_id',\n",
       "       'yt_playlist_id', 'yt_link', 'vs_str', 'series_name'],\n",
       "      dtype='object')"
      ]
     },
     "execution_count": 3,
     "metadata": {},
     "output_type": "execute_result"
    }
   ],
   "source": [
    "final_df.columns"
   ]
  },
  {
   "cell_type": "code",
   "execution_count": null,
   "id": "9e5d50af-6184-4290-8c62-f3af5856d3b4",
   "metadata": {},
   "outputs": [],
   "source": []
  }
 ],
 "metadata": {
  "kernelspec": {
   "display_name": "Python 3 (ipykernel)",
   "language": "python",
   "name": "python3"
  },
  "language_info": {
   "codemirror_mode": {
    "name": "ipython",
    "version": 3
   },
   "file_extension": ".py",
   "mimetype": "text/x-python",
   "name": "python",
   "nbconvert_exporter": "python",
   "pygments_lexer": "ipython3",
   "version": "3.10.12"
  }
 },
 "nbformat": 4,
 "nbformat_minor": 5
}
