{
 "cells": [
  {
   "cell_type": "code",
   "execution_count": 1,
   "id": "e4c1ed7d-cff3-43fc-aa78-a81e396932ae",
   "metadata": {},
   "outputs": [
    {
     "name": "stdout",
     "output_type": "stream",
     "text": [
      "gm_username='PoojaFan69'\n",
      "gm_username='systemplayer'\n",
      "gm_username='sterkurstrakur'\n",
      "gm_username='ebenetzebeth'\n",
      "gm_username='Hippopotamus'\n",
      "gm_username='wonestall'\n",
      "gm_username='redwinereduction'\n",
      "gm_username='slowbrah'\n",
      "gm_username='iattackuresign'\n",
      "gm_username='speedonly'\n",
      "gm_username='tungjatjeta'\n",
      "gm_username='systematic'\n",
      "gm_username='VBKN'\n"
     ]
    },
    {
     "name": "stderr",
     "output_type": "stream",
     "text": [
      "reading ocr txt files: 100%|████████████████████████████████████████████████████████████████████████████████████████████████████████████████████████████████████████████████████████████████████████████████| 274/274 [00:35<00:00,  7.73it/s]\n"
     ]
    }
   ],
   "source": [
    "import chess_prj\n",
    "import pandas as pd\n",
    "\n",
    "dfs = chess_prj.make_dfs(\"/data/chess_prj/games/\",\"/data/chess_prj/ocr/\",CDIST_THRESHOLD=80, last4_agree=True)\n",
    "dfs.keys()\n",
    "locals().update(dfs)"
   ]
  },
  {
   "cell_type": "code",
   "execution_count": 2,
   "id": "64d70bd3-e35c-42d0-a5cb-cd1f30e21de3",
   "metadata": {},
   "outputs": [
    {
     "data": {
      "text/html": [
       "<div>\n",
       "<style scoped>\n",
       "    .dataframe tbody tr th:only-of-type {\n",
       "        vertical-align: middle;\n",
       "    }\n",
       "\n",
       "    .dataframe tbody tr th {\n",
       "        vertical-align: top;\n",
       "    }\n",
       "\n",
       "    .dataframe thead th {\n",
       "        text-align: right;\n",
       "    }\n",
       "</style>\n",
       "<table border=\"1\" class=\"dataframe\">\n",
       "  <thead>\n",
       "    <tr style=\"text-align: right;\">\n",
       "      <th></th>\n",
       "      <th>time</th>\n",
       "      <th>fname</th>\n",
       "      <th>bbox_player</th>\n",
       "      <th>ocr_str_player</th>\n",
       "      <th>score_player</th>\n",
       "      <th>bbox_opponent</th>\n",
       "      <th>ocr_str_opponent</th>\n",
       "      <th>score_opponent</th>\n",
       "      <th>player_str</th>\n",
       "      <th>player_ocr_score</th>\n",
       "      <th>...</th>\n",
       "      <th>pgn</th>\n",
       "      <th>game_id</th>\n",
       "      <th>player_start_elo</th>\n",
       "      <th>player_elo_gain</th>\n",
       "      <th>estimated_opponent_start_elo</th>\n",
       "      <th>yt_video_id</th>\n",
       "      <th>yt_playlist_id</th>\n",
       "      <th>yt_link</th>\n",
       "      <th>vs_str</th>\n",
       "      <th>series_name</th>\n",
       "    </tr>\n",
       "  </thead>\n",
       "  <tbody>\n",
       "    <tr>\n",
       "      <th>0</th>\n",
       "      <td>1055.0</td>\n",
       "      <td>/data/chess_prj/ocr/PL8N8j2e7RpPnpqbISqi1SJ9_w...</td>\n",
       "      <td>[[108.0, 1009.0], [198.0, 1009.0], [198.0, 102...</td>\n",
       "      <td>VBKN (401)</td>\n",
       "      <td>0.934520</td>\n",
       "      <td>[[112.0, 30.0], [298.0, 30.0], [298.0, 50.0], ...</td>\n",
       "      <td>antxman86(353</td>\n",
       "      <td>0.955083</td>\n",
       "      <td>VBKN (401)</td>\n",
       "      <td>100.000000</td>\n",
       "      <td>...</td>\n",
       "      <td>[Event \"Live Chess\"]\\n[Site \"Chess.com\"]\\n[Dat...</td>\n",
       "      <td>6368778613</td>\n",
       "      <td>401</td>\n",
       "      <td>-9</td>\n",
       "      <td>353</td>\n",
       "      <td>p8pZbhjL-fQ</td>\n",
       "      <td>PL8N8j2e7RpPnpqbISqi1SJ9_wrnNU3rEm</td>\n",
       "      <td>https://youtu.be/p8pZbhjL-fQ?t=1055</td>\n",
       "      <td>antxman86 (353) vs VBKN (401)</td>\n",
       "      <td>Habits (2021)</td>\n",
       "    </tr>\n",
       "    <tr>\n",
       "      <th>1</th>\n",
       "      <td>1840.0</td>\n",
       "      <td>/data/chess_prj/ocr/PL8N8j2e7RpPnpqbISqi1SJ9_w...</td>\n",
       "      <td>[[106.0, 1009.0], [204.0, 1009.0], [204.0, 102...</td>\n",
       "      <td>VBKN(392)</td>\n",
       "      <td>0.928447</td>\n",
       "      <td>[[112.0, 30.0], [304.0, 30.0], [304.0, 50.0], ...</td>\n",
       "      <td>Pablo525 474)</td>\n",
       "      <td>0.934448</td>\n",
       "      <td>VBKN (392)</td>\n",
       "      <td>94.736839</td>\n",
       "      <td>...</td>\n",
       "      <td>[Event \"Live Chess\"]\\n[Site \"Chess.com\"]\\n[Dat...</td>\n",
       "      <td>6368864385</td>\n",
       "      <td>392</td>\n",
       "      <td>10</td>\n",
       "      <td>474</td>\n",
       "      <td>p8pZbhjL-fQ</td>\n",
       "      <td>PL8N8j2e7RpPnpqbISqi1SJ9_wrnNU3rEm</td>\n",
       "      <td>https://youtu.be/p8pZbhjL-fQ?t=1840</td>\n",
       "      <td>VBKN (392) vs Pablo525 (474)</td>\n",
       "      <td>Habits (2021)</td>\n",
       "    </tr>\n",
       "  </tbody>\n",
       "</table>\n",
       "<p>2 rows × 33 columns</p>\n",
       "</div>"
      ],
      "text/plain": [
       "     time                                              fname  \\\n",
       "0  1055.0  /data/chess_prj/ocr/PL8N8j2e7RpPnpqbISqi1SJ9_w...   \n",
       "1  1840.0  /data/chess_prj/ocr/PL8N8j2e7RpPnpqbISqi1SJ9_w...   \n",
       "\n",
       "                                         bbox_player ocr_str_player  \\\n",
       "0  [[108.0, 1009.0], [198.0, 1009.0], [198.0, 102...     VBKN (401)   \n",
       "1  [[106.0, 1009.0], [204.0, 1009.0], [204.0, 102...      VBKN(392)   \n",
       "\n",
       "   score_player                                      bbox_opponent  \\\n",
       "0      0.934520  [[112.0, 30.0], [298.0, 30.0], [298.0, 50.0], ...   \n",
       "1      0.928447  [[112.0, 30.0], [304.0, 30.0], [304.0, 50.0], ...   \n",
       "\n",
       "  ocr_str_opponent  score_opponent  player_str  player_ocr_score  ...  \\\n",
       "0    antxman86(353        0.955083  VBKN (401)        100.000000  ...   \n",
       "1    Pablo525 474)        0.934448  VBKN (392)         94.736839  ...   \n",
       "\n",
       "                                                 pgn     game_id  \\\n",
       "0  [Event \"Live Chess\"]\\n[Site \"Chess.com\"]\\n[Dat...  6368778613   \n",
       "1  [Event \"Live Chess\"]\\n[Site \"Chess.com\"]\\n[Dat...  6368864385   \n",
       "\n",
       "  player_start_elo player_elo_gain estimated_opponent_start_elo  yt_video_id  \\\n",
       "0              401              -9                          353  p8pZbhjL-fQ   \n",
       "1              392              10                          474  p8pZbhjL-fQ   \n",
       "\n",
       "                       yt_playlist_id                              yt_link  \\\n",
       "0  PL8N8j2e7RpPnpqbISqi1SJ9_wrnNU3rEm  https://youtu.be/p8pZbhjL-fQ?t=1055   \n",
       "1  PL8N8j2e7RpPnpqbISqi1SJ9_wrnNU3rEm  https://youtu.be/p8pZbhjL-fQ?t=1840   \n",
       "\n",
       "                          vs_str    series_name  \n",
       "0  antxman86 (353) vs VBKN (401)  Habits (2021)  \n",
       "1   VBKN (392) vs Pablo525 (474)  Habits (2021)  \n",
       "\n",
       "[2 rows x 33 columns]"
      ]
     },
     "execution_count": 2,
     "metadata": {},
     "output_type": "execute_result"
    }
   ],
   "source": [
    "final_df.head(2)"
   ]
  },
  {
   "cell_type": "code",
   "execution_count": 3,
   "id": "dbe5caf0-cf54-4d8c-bdea-01d4ebd44290",
   "metadata": {},
   "outputs": [
    {
     "data": {
      "text/plain": [
       "Index(['time', 'fname', 'bbox_player', 'ocr_str_player', 'score_player',\n",
       "       'bbox_opponent', 'ocr_str_opponent', 'score_opponent', 'player_str',\n",
       "       'player_ocr_score', 'opponent_str', 'opponent_ocr_score', 'gm_username',\n",
       "       'game_url', 'time_class', 'start_datetime_posix', 'end_datetime_posix',\n",
       "       'year', 'month', 'player_color', 'opponent_end_elo', 'opponent',\n",
       "       'player_end_elo', 'pgn', 'game_id', 'player_start_elo',\n",
       "       'player_elo_gain', 'estimated_opponent_start_elo', 'yt_video_id',\n",
       "       'yt_playlist_id', 'yt_link', 'vs_str', 'series_name'],\n",
       "      dtype='object')"
      ]
     },
     "execution_count": 3,
     "metadata": {},
     "output_type": "execute_result"
    }
   ],
   "source": [
    "final_df.columns"
   ]
  },
  {
   "cell_type": "code",
   "execution_count": null,
   "id": "9e5d50af-6184-4290-8c62-f3af5856d3b4",
   "metadata": {},
   "outputs": [],
   "source": []
  }
 ],
 "metadata": {
  "kernelspec": {
   "display_name": "Python 3 (ipykernel)",
   "language": "python",
   "name": "python3"
  },
  "language_info": {
   "codemirror_mode": {
    "name": "ipython",
    "version": 3
   },
   "file_extension": ".py",
   "mimetype": "text/x-python",
   "name": "python",
   "nbconvert_exporter": "python",
   "pygments_lexer": "ipython3",
   "version": "3.10.12"
  }
 },
 "nbformat": 4,
 "nbformat_minor": 5
}
